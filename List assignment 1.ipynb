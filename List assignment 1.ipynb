{
 "cells": [
  {
   "cell_type": "code",
   "execution_count": 1,
   "id": "49cd843f-73bf-434a-a0ea-bcae4bd0aed3",
   "metadata": {},
   "outputs": [],
   "source": [
    "my_list = []"
   ]
  },
  {
   "cell_type": "code",
   "execution_count": 3,
   "id": "486c3362-7829-4fd6-b10f-fd049a836f21",
   "metadata": {},
   "outputs": [],
   "source": [
    "list1=[1,2,3,4,5]"
   ]
  },
  {
   "cell_type": "code",
   "execution_count": 4,
   "id": "dc7c5771-c571-4943-9c7e-6fb70a8b7c04",
   "metadata": {},
   "outputs": [],
   "source": [
    "list1.append(6)"
   ]
  },
  {
   "cell_type": "code",
   "execution_count": 5,
   "id": "a9f4ef44-b1c1-4de6-9d3d-5d71802c6ce5",
   "metadata": {},
   "outputs": [
    {
     "data": {
      "text/plain": [
       "[1, 2, 3, 4, 5, 6]"
      ]
     },
     "execution_count": 5,
     "metadata": {},
     "output_type": "execute_result"
    }
   ],
   "source": [
    "list1"
   ]
  },
  {
   "cell_type": "code",
   "execution_count": 7,
   "id": "ef0dc355-1475-4a2e-8898-3bd429f4b015",
   "metadata": {},
   "outputs": [
    {
     "name": "stdout",
     "output_type": "stream",
     "text": [
      "6\n"
     ]
    }
   ],
   "source": [
    "print(list1[5])"
   ]
  },
  {
   "cell_type": "code",
   "execution_count": 13,
   "id": "d8bd9efe-04b1-46d8-b14c-199b8a86639d",
   "metadata": {},
   "outputs": [
    {
     "data": {
      "text/plain": [
       "[6, 5, 4, 3, 2, 1]"
      ]
     },
     "execution_count": 13,
     "metadata": {},
     "output_type": "execute_result"
    }
   ],
   "source": [
    "list1[::-1]"
   ]
  },
  {
   "cell_type": "code",
   "execution_count": 14,
   "id": "8ab2ee53-159f-49e6-bee9-eaf5c6470315",
   "metadata": {},
   "outputs": [],
   "source": [
    "list1.sort()"
   ]
  },
  {
   "cell_type": "code",
   "execution_count": 15,
   "id": "c08c7f6b-528a-447a-93eb-cc217639b004",
   "metadata": {},
   "outputs": [
    {
     "data": {
      "text/plain": [
       "[1, 2, 3, 4, 5, 6]"
      ]
     },
     "execution_count": 15,
     "metadata": {},
     "output_type": "execute_result"
    }
   ],
   "source": [
    "list1"
   ]
  },
  {
   "cell_type": "code",
   "execution_count": 18,
   "id": "abaf45a5-d12e-43c2-9b2b-d106796ee30d",
   "metadata": {},
   "outputs": [],
   "source": [
    "list1.sort(reverse=True)"
   ]
  },
  {
   "cell_type": "code",
   "execution_count": 20,
   "id": "bdcf0ff5-7357-4db0-b0b4-9d56d8835c27",
   "metadata": {},
   "outputs": [
    {
     "data": {
      "text/plain": [
       "[6, 5, 4, 3, 2, 1]"
      ]
     },
     "execution_count": 20,
     "metadata": {},
     "output_type": "execute_result"
    }
   ],
   "source": [
    "list1"
   ]
  },
  {
   "cell_type": "code",
   "execution_count": 23,
   "id": "fcbbf15b-da85-4475-a10f-644cd18a6c9e",
   "metadata": {},
   "outputs": [],
   "source": [
    "fav_movies=['Kgf', 'Sholay', 'Maari']"
   ]
  },
  {
   "cell_type": "code",
   "execution_count": 25,
   "id": "08282493-aef1-4ade-99ef-72dcd552cee9",
   "metadata": {},
   "outputs": [
    {
     "name": "stdout",
     "output_type": "stream",
     "text": [
      "Sholay\n"
     ]
    }
   ],
   "source": [
    "print(fav_movies[1])"
   ]
  },
  {
   "cell_type": "code",
   "execution_count": 27,
   "id": "ac39ed22-8514-452c-ac27-d634d2492f15",
   "metadata": {},
   "outputs": [],
   "source": [
    "fav_animals=['Lion', 'Tiger', 'Wolf', 'Lepard']"
   ]
  },
  {
   "cell_type": "code",
   "execution_count": 28,
   "id": "0d9d4042-4ba2-4888-a35e-3069af0ae524",
   "metadata": {},
   "outputs": [],
   "source": [
    "fav_animals.append('Anaconda')"
   ]
  },
  {
   "cell_type": "code",
   "execution_count": 29,
   "id": "a4e54727-c791-4997-9f7a-1592a44a897c",
   "metadata": {},
   "outputs": [
    {
     "name": "stdout",
     "output_type": "stream",
     "text": [
      "['Lion', 'Tiger', 'Wolf', 'Lepard', 'Anaconda']\n"
     ]
    }
   ],
   "source": [
    "print(fav_animals)"
   ]
  },
  {
   "cell_type": "code",
   "execution_count": 30,
   "id": "d2405633-63a2-4819-8332-c742a7efed15",
   "metadata": {},
   "outputs": [],
   "source": [
    "fav_cities=['New York', 'London', 'Barcelona', 'Florida']"
   ]
  },
  {
   "cell_type": "code",
   "execution_count": null,
   "id": "b43a5efd-62d2-4f7c-b123-a780665b3db1",
   "metadata": {},
   "outputs": [],
   "source": [
    "print(fav_cities.index"
   ]
  }
 ],
 "metadata": {
  "kernelspec": {
   "display_name": "Python 3 (ipykernel)",
   "language": "python",
   "name": "python3"
  },
  "language_info": {
   "codemirror_mode": {
    "name": "ipython",
    "version": 3
   },
   "file_extension": ".py",
   "mimetype": "text/x-python",
   "name": "python",
   "nbconvert_exporter": "python",
   "pygments_lexer": "ipython3",
   "version": "3.10.8"
  }
 },
 "nbformat": 4,
 "nbformat_minor": 5
}
